{
 "cells": [
  {
   "cell_type": "code",
   "execution_count": 1,
   "metadata": {},
   "outputs": [],
   "source": [
    "import sys\n",
    "# !{sys.executable} -m pip install opencv-python\n",
    "from IPython.core.debugger import set_trace\n",
    "import cv2 \n",
    "import numpy as np\n",
    "from scipy import signal\n",
    "from IPython.core.debugger import set_trace\n",
    "from sklearn.metrics import mean_squared_error\n",
    "from sklearn import preprocessing\n",
    "from scipy.signal import correlate\n",
    "import scipy\n",
    "\n",
    "\n",
    "\n"
   ]
  },
  {
   "cell_type": "code",
   "execution_count": 2,
   "metadata": {},
   "outputs": [],
   "source": [
    "def find_fft(A):\n",
    "    A = np.reshape(A,[-1,2])\n",
    "#     A = np.divide(A,np.repeat(np.reshape(np.add(np.power(A[:,0],2),np.power(A[:,1],2)),[-1,1]),2,axis = 1))\n",
    "\n",
    "\n",
    "#     A =preprocessing.normalize(A)\n",
    "    u_hat = A[:,0]+1j*A[:,1]\n",
    "    u_hat[~np.isnan(u_hat).any(axis=0)]\n",
    "    template = np.fft.fft(u_hat)\n",
    "    \n",
    "    template = np.divide(template,np.sqrt(np.sum(np.power(np.absolute(template),2))))\n",
    "    return template\n",
    "\n",
    "\n",
    "\n",
    "# def findDescriptor(img):\n",
    "#     \"\"\" findDescriptor(img) finds and returns the\n",
    "#     Fourier-Descriptor of the image contour\"\"\"\n",
    "#     contour = []\n",
    "#     contour, hierarchy = cv2.findContours(\n",
    "#         img,\n",
    "#         cv2.RETR_EXTERNAL,\n",
    "#         cv2.CHAIN_APPROX_NONE,\n",
    "#         contour)\n",
    "#     contour_array = contour[0][:, 0, :]\n",
    "#     contour_complex = np.empty(contour_array.shape[:-1], dtype=complex)\n",
    "#     contour_complex.real = contour_array[:, 0]\n",
    "#     contour_complex.imag = contour_array[:, 1]\n",
    "#     fourier_result = np.fft.fft(contour_complex)\n",
    "#     return fourier_result\n",
    "\n",
    "\n",
    "def truncate_descriptor(descriptors, degree):\n",
    "    \"\"\"this function truncates an unshifted fourier descriptor array\n",
    "    and returns one also unshifted\"\"\"\n",
    "    descriptors = np.fft.fftshift(descriptors)\n",
    "    center_index = len(descriptors) // 2\n",
    "    descriptors = descriptors[center_index-degree//2:center_index+degree//2]\n",
    "    descriptors = np.fft.ifftshift(descriptors)\n",
    "\n",
    "    return descriptors\n",
    "\n",
    "image = cv2.imread('./sample8.png',0) \n",
    "targetImage = cv2.imread('./a3.png',0) \n",
    "\n",
    "\n",
    "\n",
    "ret,gray = cv2.threshold(image,127,255,cv2.THRESH_BINARY_INV)\n",
    "ret,gray2 = cv2.threshold(targetImage,127,255,cv2.THRESH_BINARY_INV)\n",
    "kernel = np.ones((5,5),np.uint8)\n",
    "gray = cv2.dilate(gray,kernel,iterations = 1)\n",
    "gray2 = cv2.dilate(gray2,kernel,iterations = 1)\n",
    "\n",
    "\n",
    "\n",
    "\n",
    "\n",
    "# Find Canny edges \n",
    "edged = cv2.Canny(gray, 30, 200) \n",
    "\n",
    "contours, hierarchy = cv2.findContours(edged,  \n",
    "    cv2.RETR_EXTERNAL, cv2.CHAIN_APPROX_NONE) \n",
    "\n",
    "# cv2.drawContours(image, contours, -1, (0, 255, 0), 1) \n",
    "# cv2.imshow('Contours', image) \n",
    "# cv2.waitKey(0) \n",
    "# cv2.destroyAllWindows() \n",
    "\n",
    "\n",
    "template= find_fft(contours[0])\n",
    "\n",
    "edged2 = cv2.Canny(gray2, 30, 200) \n",
    "\n",
    "contours2, hierarchy2 = cv2.findContours(edged2,  \n",
    "    cv2.RETR_EXTERNAL, cv2.CHAIN_APPROX_NONE) "
   ]
  },
  {
   "cell_type": "code",
   "execution_count": null,
   "metadata": {
    "scrolled": true
   },
   "outputs": [
    {
     "name": "stdout",
     "output_type": "stream",
     "text": [
      "176\n",
      "0.0734259234802511\n",
      "130\n",
      "0.07379126236022437\n",
      "134\n",
      "0.07324325134873391\n",
      "226\n",
      "0.07574979250831186\n",
      "135\n",
      "0.07354970428996055\n",
      "325\n",
      "0.07425547988446626\n",
      "340\n",
      "0.07395814767766525\n",
      "197\n",
      "0.07102387698500791\n",
      "126\n",
      "0.07011350080668385\n",
      "827\n",
      "0.04389355515284253\n",
      "123\n",
      "0.06959028000019492\n",
      "152\n",
      "0.07139911256685122\n",
      "122\n",
      "0.0698371781428555\n",
      "147\n",
      "0.06590453646104462\n",
      "256\n",
      "0.06546149374657334\n",
      "147\n",
      "0.06800711585121588\n",
      "145\n",
      "0.06607720052102525\n",
      "257\n",
      "0.07185349752518412\n",
      "137\n",
      "0.06791794735342375\n"
     ]
    }
   ],
   "source": [
    "for i in range(len(contours2)):\n",
    "    \n",
    "    extract = find_fft(contours2[i])\n",
    "    length = len(extract)\n",
    "    if length>=122:\n",
    "        print(len(extract))\n",
    "        template_abs = np.absolute(truncate_descriptor(template,20))\n",
    "        extract_abs = np.absolute(truncate_descriptor(extract, 20))\n",
    "#         index = sorted(np.argsort(template_abs)[:10])\n",
    "#         index2 = sorted(np.argsort(extract_abs)[:10])\n",
    "#         template = template[index]\n",
    "#         extract = extract[index]\n",
    "#         template_abs  = template_abs[index]\n",
    "#         extract_abs = extract_abs[index2]\n",
    "#         dist =cv2.matchShapes(contours, contours,cv2.CONTOURS_MATCH_I3,0.0) \n",
    "        dist = np.sqrt(mean_squared_error(template_abs,extract_abs))    \n",
    "#         dist = np.mean(np.abs(template_abs - extract_abs))\n",
    "        if dist:\n",
    "\n",
    "            print(dist)\n",
    "            cv2.drawContours(targetImage, contours2[i], -1, (0, 255, 0), 1) \n",
    "            cv2.imshow('Contours', targetImage) \n",
    "            cv2.waitKey(0) \n",
    "            cv2.destroyAllWindows() \n",
    "\n",
    "    "
   ]
  },
  {
   "cell_type": "code",
   "execution_count": null,
   "metadata": {
    "scrolled": true
   },
   "outputs": [],
   "source": []
  },
  {
   "cell_type": "code",
   "execution_count": null,
   "metadata": {
    "scrolled": true
   },
   "outputs": [],
   "source": [
    "# distlo = cv2.distanceTransform(contours, cv2.DIST_L2, cv2.DIST_MASK_PRECISE)\n",
    "# ring = cv2.inRange(distlo, 9.5, 10.5) # take all pixels at distance between 9.5px and 10.5px\n"
   ]
  },
  {
   "cell_type": "code",
   "execution_count": null,
   "metadata": {},
   "outputs": [],
   "source": [
    "\n",
    "\n",
    "for i,j in zip(x,y):\n",
    "    cv2.rectangle(targetImage, ( j-swidth,i-sheight), (j,i), (255,0,0), 2)\n",
    "\n",
    "cv2.imwrite(\"./output.jpg\",targetImage)"
   ]
  },
  {
   "cell_type": "code",
   "execution_count": null,
   "metadata": {},
   "outputs": [],
   "source": [
    "gray = cv2.cvtColor(targetImage, cv2.COLOR_BGR2GRAY) \n",
    "\n",
    "edged = cv2.Canny(gray, 30, 200) \n",
    "  \n",
    "# Finding Contours \n",
    "# Use a copy of the image e.g. edged.copy() \n",
    "# since findContours alters the image \n",
    "contours, hierarchy = cv2.findContours(edged,  \n",
    "    cv2.RETR_EXTERNAL, cv2.CHAIN_APPROX_NONE) \n",
    "print(np.shape(contours[2]))\n",
    "# Draw all contours \n",
    "# -1 signifies drawing all contours \n",
    "cv2.drawContours(targetImage, contours[2], -1, (0, 255, 0), 1) \n",
    "  \n",
    "cv2.imshow('Contours', targetImage) \n",
    "cv2.waitKey(0) \n",
    "cv2.destroyAllWindows() "
   ]
  },
  {
   "cell_type": "code",
   "execution_count": null,
   "metadata": {},
   "outputs": [],
   "source": [
    "print(contours[0])\n",
    "\n"
   ]
  },
  {
   "cell_type": "code",
   "execution_count": null,
   "metadata": {},
   "outputs": [],
   "source": [
    "np.absolute([1+1j])"
   ]
  },
  {
   "cell_type": "code",
   "execution_count": null,
   "metadata": {},
   "outputs": [],
   "source": [
    "\n",
    "\n",
    "kernel = np.ones((5,5),np.uint8)\n",
    "dilation = cv2.dilate(gray2,kernel,iterations = 2)\n",
    "cv2.imshow('Contours', dilation) \n",
    "\n",
    "\n",
    "\n",
    "cv2.waitKey(0) \n",
    "cv2.destroyAllWindows() \n",
    "\n"
   ]
  },
  {
   "cell_type": "code",
   "execution_count": null,
   "metadata": {},
   "outputs": [],
   "source": []
  }
 ],
 "metadata": {
  "kernelspec": {
   "display_name": "Python 3",
   "language": "python",
   "name": "python3"
  },
  "language_info": {
   "codemirror_mode": {
    "name": "ipython",
    "version": 3
   },
   "file_extension": ".py",
   "mimetype": "text/x-python",
   "name": "python",
   "nbconvert_exporter": "python",
   "pygments_lexer": "ipython3",
   "version": "3.7.4"
  }
 },
 "nbformat": 4,
 "nbformat_minor": 2
}

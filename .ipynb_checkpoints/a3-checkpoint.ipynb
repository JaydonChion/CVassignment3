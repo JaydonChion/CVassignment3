{
 "cells": [
  {
   "cell_type": "code",
   "execution_count": 1,
   "metadata": {},
   "outputs": [],
   "source": [
    "import sys\n",
    "# !{sys.executable} -m pip install opencv-python\n",
    "from IPython.core.debugger import set_trace\n",
    "import cv2 \n",
    "import numpy as np\n",
    "from scipy import signal\n",
    "from IPython.core.debugger import set_trace\n",
    "from sklearn.metrics import mean_squared_error\n",
    "from sklearn import preprocessing"
   ]
  },
  {
   "cell_type": "code",
   "execution_count": 2,
   "metadata": {},
   "outputs": [
    {
     "name": "stdout",
     "output_type": "stream",
     "text": [
      "Number of Contours found = 1\n"
     ]
    }
   ],
   "source": [
    "def find_dft(img):\n",
    "    gray = cv2.cvtColor(img, cv2.COLOR_BGR2GRAY) \n",
    "    edged = cv2.Canny(gray, 30, 200) \n",
    "    contours, hierarchy = cv2.findContours(edged,  \n",
    "        cv2.RETR_EXTERNAL, cv2.CHAIN_APPROX_NONE) \n",
    "    if np.shape(contours)[0]!=1:\n",
    "        return [],[],False\n",
    "    contours1 = np.reshape(contours,[-1,2])\n",
    "    contours1 = np.divide(contours1,np.repeat(np.reshape(np.add(np.power(contours1[:,0],2),np.power(contours1[:,1],2)),[-1,1]),2,axis = 1))\n",
    "\n",
    "    u_hat = contours1[:,0]+1j*contours1[:,1]\n",
    "    u_hat[~np.isnan(u_hat).any(axis=0)]\n",
    "    template = np.fft.fft(u_hat)\n",
    "#     template_unit = template/np.absolute(template)\n",
    "\n",
    "    return template,contours,True\n",
    "\n",
    "image = cv2.imread('./sample3.png') \n",
    "targetImage = cv2.imread('./a3.png') \n",
    "\n",
    "sheight,swidth = image.shape[0],image.shape[1]\n",
    "height,width = targetImage.shape[0],targetImage.shape[1]\n",
    "\n",
    "cv2.waitKey(0) \n",
    "  \n",
    "# Grayscale \n",
    "gray = cv2.cvtColor(image, cv2.COLOR_BGR2GRAY) \n",
    "  \n",
    "# Find Canny edges \n",
    "edged = cv2.Canny(gray, 30, 200) \n",
    "cv2.waitKey(0) \n",
    "  \n",
    "# Finding Contours \n",
    "# Use a copy of the image e.g. edged.copy() \n",
    "# since findContours alters the image \n",
    "contours, hierarchy = cv2.findContours(edged,  \n",
    "    cv2.RETR_EXTERNAL, cv2.CHAIN_APPROX_NONE) \n",
    "\n",
    "template,_,_ = find_dft(image)\n",
    "template = template[:50]\n",
    "# template_abs = np.absolute(template)\n",
    "# index = sorted(np.argsort(template_abs)[:50])\n",
    "# template  = template[index]\n",
    "\n",
    "# template_unit = np.divide(template,np.mean(np.absolute(template)))[:10]\n",
    "temp_length = len(template)\n",
    "# cv2.imshow('Canny Edges After Contouring', edged) \n",
    "# cv2.waitKey(0) \n",
    "\n",
    "print(\"Number of Contours found = \" + str(len(contours))) \n",
    "  \n",
    "# Draw all contours \n",
    "# -1 signifies drawing all contours \n",
    "cv2.drawContours(image, contours, -1, (0, 255, 0), 1) \n",
    "  \n",
    "# cv2.imshow('Contours', image) \n",
    "# cv2.waitKey(0) \n",
    "cv2.destroyAllWindows() \n",
    "\n"
   ]
  },
  {
   "cell_type": "code",
   "execution_count": 3,
   "metadata": {
    "scrolled": true
   },
   "outputs": [],
   "source": [
    "# for h in range(sheight,height,5):\n",
    "#     for w in range(swidth,width,5):\n",
    "#         crop = targetImage[h-sheight:h,w-swidth:w]\n",
    "#         stemplate,contour,checker = find_dft(crop)\n",
    "# #         cv2.imshow('crops', crop) \n",
    "# #         cv2.waitKey(0) \n",
    "# #         cv2.destroyAllWindows() \n",
    "#         if checker and len(stemplate)>=temp_length and len(stemplate)>=80:\n",
    "#             stemplate_abs = np.absolute(stemplate)\n",
    "#             index1 = sorted(np.argsort(stemplate_abs)[:80])\n",
    "#             stemplate_unit = np.divide(stemplate,np.absolute(stemplate))\n",
    "#             stemplate_unit  = stemplate_unit[index1]\n",
    "# #             dist = np.mean(np.power(np.absolute(template_unit - stemplate_unit),2))\n",
    "#             dist = np.mean(np.power(np.imag(template_unit)-np.imag(stemplate_unit),2)+np.power(np.real(template_unit)-np.real(stemplate_unit),2))\n",
    "# #             set_trace()\n",
    "#             if dist:\n",
    "#                 cv2.drawContours(crop, contour, -1, (0, 255, 0), 1) \n",
    "#                 cv2.imshow('crops', crop) \n",
    "#                 cv2.waitKey(0) \n",
    "#                 cv2.destroyAllWindows() \n",
    "#                 print(dist)\n",
    "#         else:\n",
    "#             continue\n",
    "   "
   ]
  },
  {
   "cell_type": "code",
   "execution_count": 4,
   "metadata": {
    "scrolled": true
   },
   "outputs": [
    {
     "name": "stdout",
     "output_type": "stream",
     "text": [
      "1.0507178109717095\n",
      "0.6624326047168443\n",
      "0.2627501698845353\n",
      "0.48798076214886277\n",
      "0.9843707537233687\n",
      "1.1433721810276007\n",
      "0.746475275894199\n",
      "0.3244293142910499\n",
      "0.42049379000474224\n",
      "0.9331652007275159\n",
      "0.8635491481406785\n",
      "0.4336276811600663\n",
      "0.3625748963973796\n",
      "0.8377235836873088\n",
      "1.0077992326918257\n",
      "0.5783552098161486\n",
      "0.3295523000942308\n",
      "0.7180968009750845\n"
     ]
    },
    {
     "name": "stderr",
     "output_type": "stream",
     "text": [
      "/usr/local/lib/python3.7/site-packages/ipykernel_launcher.py:9: RuntimeWarning: invalid value encountered in true_divide\n",
      "  if __name__ == '__main__':\n"
     ]
    },
    {
     "name": "stdout",
     "output_type": "stream",
     "text": [
      "1.2407637741375515\n",
      "1.24161002653832\n",
      "1.2278679628744613\n",
      "1.2361814727620377\n",
      "1.2403467073977292\n",
      "1.2237319705977194\n",
      "1.2039157183714284\n",
      "1.1991869637908086\n",
      "1.2065940382486147\n",
      "1.2288596258250422\n",
      "1.2368921187942412\n",
      "1.0550975586049587\n",
      "1.079734643407327\n",
      "1.0303888824849314\n",
      "1.233762472695699\n",
      "1.2081111675648188\n",
      "1.1312368150330798\n",
      "1.0646212321097377\n",
      "1.2257608508370013\n",
      "1.160829634224585\n",
      "1.1075218654138845\n",
      "1.0542457750161884\n",
      "1.2413125038367028\n",
      "1.201965849306411\n",
      "1.216957258774331\n",
      "1.1955996035147063\n",
      "1.2111197178452653\n",
      "1.1640244631884638\n",
      "1.1266619464038599\n",
      "1.2322634415379794\n"
     ]
    },
    {
     "data": {
      "text/plain": [
       "True"
      ]
     },
     "execution_count": 4,
     "metadata": {},
     "output_type": "execute_result"
    }
   ],
   "source": [
    "x = []\n",
    "y = []\n",
    "\n",
    "for h in range(sheight,height,2):\n",
    "    for w in range(swidth,width,2):\n",
    "        crop = targetImage[h-sheight:h,w-swidth:w]\n",
    "        stemplate,contour,checker = find_dft(crop)\n",
    "        \n",
    "#         if checker and len(stemplate)>=temp_length and len(stemplate)>=80:\n",
    "        if checker and len(contour)>0 and len(stemplate)>=50:\n",
    "            stemplate = stemplate[:50]\n",
    "#             dist1 = np.mean(np.power(np.imag(template)-np.imag(stemplate),2)+np.power(np.real(template)-np.real(stemplate),2))\n",
    "            dist2 = np.mean(np.abs(np.absolute(template) - np.absolute(stemplate)))\n",
    "            dist = dist2*100\n",
    "            if dist<1.25 and not np.isnan(dist):\n",
    "#                 cv2.rectangle(targetImage, ( w-swidth,h-sheight), (w,h), (255,0,0), 2)\n",
    "#                 cv2.imshow('crop', crop) \n",
    "#                 cv2.waitKey(0) \n",
    "#                 cv2.destroyAllWindows() \n",
    "                x.append(h)\n",
    "                y.append(w)\n",
    "                print(dist)\n",
    "\n",
    "for i,j in zip(x,y):\n",
    "    cv2.rectangle(targetImage, ( j-swidth,i-sheight), (j,i), (255,0,0), 2)\n",
    "\n",
    "cv2.imwrite(\"./output.jpg\",targetImage)\n"
   ]
  },
  {
   "cell_type": "code",
   "execution_count": null,
   "metadata": {},
   "outputs": [],
   "source": []
  },
  {
   "cell_type": "code",
   "execution_count": null,
   "metadata": {},
   "outputs": [],
   "source": []
  },
  {
   "cell_type": "code",
   "execution_count": null,
   "metadata": {},
   "outputs": [],
   "source": [
    "\n",
    "\n",
    "\n",
    "\n",
    "\n",
    "\n",
    "\n"
   ]
  },
  {
   "cell_type": "code",
   "execution_count": null,
   "metadata": {},
   "outputs": [],
   "source": []
  },
  {
   "cell_type": "code",
   "execution_count": null,
   "metadata": {},
   "outputs": [],
   "source": []
  }
 ],
 "metadata": {
  "kernelspec": {
   "display_name": "Python 3",
   "language": "python",
   "name": "python3"
  },
  "language_info": {
   "codemirror_mode": {
    "name": "ipython",
    "version": 3
   },
   "file_extension": ".py",
   "mimetype": "text/x-python",
   "name": "python",
   "nbconvert_exporter": "python",
   "pygments_lexer": "ipython3",
   "version": "3.7.4"
  }
 },
 "nbformat": 4,
 "nbformat_minor": 2
}

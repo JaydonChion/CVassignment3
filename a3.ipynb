{
 "cells": [
  {
   "cell_type": "code",
   "execution_count": 1,
   "metadata": {},
   "outputs": [],
   "source": [
    "import sys\n",
    "# !{sys.executable} -m pip install opencv-python\n",
    "from IPython.core.debugger import set_trace\n",
    "import cv2 \n",
    "import numpy as np\n",
    "from scipy import signal\n",
    "from IPython.core.debugger import set_trace\n",
    "from sklearn.metrics import mean_squared_error\n",
    "from sklearn import preprocessing\n",
    "\n",
    "thresh = 127\n"
   ]
  },
  {
   "cell_type": "code",
   "execution_count": 2,
   "metadata": {},
   "outputs": [
    {
     "name": "stdout",
     "output_type": "stream",
     "text": [
      "Number of Contours found = 1\n",
      "Number of Contours found = 1\n"
     ]
    }
   ],
   "source": [
    "def find_dft(img):\n",
    "    gray = cv2.cvtColor(img, cv2.COLOR_BGR2GRAY) \n",
    "#     gray = cv2.threshold(gray, thresh, 255, cv2.THRESH_BINARY)[1]\n",
    "    edged = cv2.Canny(gray, 100, 200)  #30,200\n",
    "    contours, hierarchy = cv2.findContours(edged,  \n",
    "        cv2.RETR_EXTERNAL, cv2.CHAIN_APPROX_NONE) \n",
    "#     print(np.shape(contours))\n",
    "    if np.shape(contours)[0] > 1:\n",
    "        contours = contours[0]\n",
    "#         contours = np.concatenate((contours[0],contours[1]))\n",
    "        contours = np.expand_dims(contours, axis=0)\n",
    "    if np.shape(contours)[0]!=1:\n",
    "        return [],[],False\n",
    "    contours1 = np.reshape(contours,[-1,2])\n",
    "    contours1 = np.divide(contours1,np.repeat(np.reshape(np.add(np.power(contours1[:,0],2),np.power(contours1[:,1],2)),[-1,1]),2,axis = 1))\n",
    "\n",
    "    u_hat = contours1[:,0]+1j*contours1[:,1]\n",
    "    u_hat[~np.isnan(u_hat).any(axis=0)]\n",
    "    template = np.fft.fft(u_hat)\n",
    "\n",
    "    return template,contours,True\n",
    "\n",
    "image = cv2.imread('./sample.png') \n",
    "targetImage = cv2.imread('./a3.png') \n",
    "\n",
    "sheight,swidth = image.shape[0],image.shape[1]\n",
    "height,width = targetImage.shape[0],targetImage.shape[1]\n",
    "\n",
    "cv2.waitKey(0) \n",
    "  \n",
    "# Grayscale \n",
    "gray = cv2.cvtColor(image, cv2.COLOR_BGR2GRAY) \n",
    "# gray = cv2.threshold(gray, thresh, 255, cv2.THRESH_BINARY)[1]\n",
    "  \n",
    "# Find Canny edges \n",
    "edged = cv2.Canny(gray, 100, 200) \n",
    "cv2.waitKey(0) \n",
    "  \n",
    "# Finding Contours \n",
    "# Use a copy of the image e.g. edged.copy() \n",
    "# since findContours alters the image \n",
    "contours, hierarchy = cv2.findContours(edged,  \n",
    "    cv2.RETR_EXTERNAL, cv2.CHAIN_APPROX_NONE) \n",
    "\n",
    "template,_,_ = find_dft(image)\n",
    "# template_abs = np.absolute(template)\n",
    "# index = sorted(np.argsort(template_abs)[:50])\n",
    "# template  = template[index]\n",
    "\n",
    "# template_unit = np.divide(template,np.mean(np.absolute(template)))[:80]\n",
    "# cv2.imshow('Canny Edges After Contouring', edged) \n",
    "# cv2.waitKey(0) \n",
    "\n",
    "print(\"Number of Contours found = \" + str(len(contours))) \n",
    "  \n",
    "# Draw all contours \n",
    "# -1 signifies drawing all contours \n",
    "# cv2.drawContours(image, contours, -1, (0, 255, 0), 1) \n",
    "  \n",
    "# cv2.imshow('Contours', image) \n",
    "# cv2.waitKey(0) \n",
    "# cv2.destroyAllWindows() \n",
    "\n"
   ]
  },
  {
   "cell_type": "code",
   "execution_count": 3,
   "metadata": {
    "scrolled": true
   },
   "outputs": [],
   "source": [
    "# for h in range(sheight,height,5):\n",
    "#     for w in range(swidth,width,5):\n",
    "#         crop = targetImage[h-sheight:h,w-swidth:w]\n",
    "#         stemplate,contour,checker = find_dft(crop)\n",
    "# #         cv2.imshow('crops', crop) \n",
    "# #         cv2.waitKey(0) \n",
    "# #         cv2.destroyAllWindows() \n",
    "#         if checker and len(stemplate)>=temp_length and len(stemplate)>=80:\n",
    "#             stemplate_abs = np.absolute(stemplate)\n",
    "#             index1 = sorted(np.argsort(stemplate_abs)[:80])\n",
    "#             stemplate_unit = np.divide(stemplate,np.absolute(stemplate))\n",
    "#             stemplate_unit  = stemplate_unit[index1]\n",
    "# #             dist = np.mean(np.power(np.absolute(template_unit - stemplate_unit),2))\n",
    "#             dist = np.mean(np.power(np.imag(template_unit)-np.imag(stemplate_unit),2)+np.power(np.real(template_unit)-np.real(stemplate_unit),2))\n",
    "# #             set_trace()\n",
    "#             if dist:\n",
    "#                 cv2.drawContours(crop, contour, -1, (0, 255, 0), 1) \n",
    "#                 cv2.imshow('crops', crop) \n",
    "#                 cv2.waitKey(0) \n",
    "#                 cv2.destroyAllWindows() \n",
    "#                 print(dist)\n",
    "#         else:\n",
    "#             continue\n",
    "   "
   ]
  },
  {
   "cell_type": "code",
   "execution_count": 4,
   "metadata": {
    "scrolled": true
   },
   "outputs": [],
   "source": [
    "# x = []\n",
    "# y = []\n",
    "\n",
    "# for h in range(sheight,height,2):\n",
    "#     for w in range(swidth,width,2):\n",
    "#         crop = targetImage[h-sheight:h,w-swidth:w]\n",
    "#         stemplate,contour,checker = find_dft(crop)\n",
    "        \n",
    "# #         if checker and len(stemplate)>=temp_length and len(stemplate)>=80:\n",
    "#         if checker and len(contour)>0 and len(stemplate)>=50:\n",
    "#             stemplate = stemplate[:50]\n",
    "# #             dist1 = np.mean(np.power(np.imag(template)-np.imag(stemplate),2)+np.power(np.real(template)-np.real(stemplate),2))\n",
    "#             dist2 = np.mean(np.abs(np.absolute(template) - np.absolute(stemplate)))\n",
    "#             dist = dist2*100\n",
    "#             if dist<1.25 and not np.isnan(dist):\n",
    "# #                 cv2.rectangle(targetImage, ( w-swidth,h-sheight), (w,h), (255,0,0), 2)\n",
    "# #                 cv2.imshow('crop', crop) \n",
    "# #                 cv2.waitKey(0) \n",
    "# #                 cv2.destroyAllWindows() \n",
    "#                 x.append(h)\n",
    "#                 y.append(w)\n",
    "#                 print(dist)\n",
    "\n",
    "# for i,j in zip(x,y):\n",
    "#     cv2.rectangle(targetImage, ( j-swidth,i-sheight), (j,i), (255,0,0), 2)\n",
    "\n",
    "# cv2.imwrite(\"./output.jpg\",targetImage)\n"
   ]
  },
  {
   "cell_type": "code",
   "execution_count": null,
   "metadata": {},
   "outputs": [
    {
     "name": "stderr",
     "output_type": "stream",
     "text": [
      "/usr/local/lib/python3.7/site-packages/ipykernel_launcher.py:15: RuntimeWarning: invalid value encountered in true_divide\n",
      "  from ipykernel import kernelapp as app\n",
      "/usr/local/lib/python3.7/site-packages/ipykernel_launcher.py:15: RuntimeWarning: invalid value encountered in true_divide\n",
      "  from ipykernel import kernelapp as app\n"
     ]
    },
    {
     "data": {
      "text/plain": [
       "True"
      ]
     },
     "execution_count": 5,
     "metadata": {},
     "output_type": "execute_result"
    }
   ],
   "source": [
    "x = []\n",
    "y = []\n",
    "\n",
    "\n",
    "for h in range(sheight,height,2):  #skip 2\n",
    "    for w in range(swidth,width,2):\n",
    "        crop = targetImage[h-sheight:h,w-swidth:w]\n",
    "        stemplate,contour,checker = find_dft(crop)\n",
    "        size = min(50,len(stemplate))\n",
    "#         stemplate_unit = np.divide(stemplate,np.mean(np.absolute(stemplate)))\n",
    "\n",
    "        \n",
    "        if len(stemplate):\n",
    "            stemplate = stemplate[:size]\n",
    "            miniTemplate = template[:size]\n",
    "#             miniTemplate_unit = np.divide(miniTemplate,np.mean(np.absolute(miniTemplate)))\n",
    "            dist2 = np.mean(np.abs(np.absolute(miniTemplate) - np.absolute(stemplate)))\n",
    "            dist = dist2*100\n",
    "            if dist<1.25 and not np.isnan(dist): #1.25\n",
    "                x.append(h)\n",
    "                y.append(w)\n",
    "                crop = cv2.threshold(crop, thresh, 255, cv2.THRESH_BINARY)[1]\n",
    "\n",
    "\n",
    "#                 cv2.imshow('crop', crop) \n",
    "#                 cv2.waitKey(0) \n",
    "#                 cv2.destroyAllWindows() \n",
    "#                 print(dist)\n",
    "\n",
    "\n",
    "for i,j in zip(x,y):\n",
    "    cv2.rectangle(targetImage, ( j-swidth,i-sheight), (j,i), (255,0,0), 2)\n",
    "\n",
    "cv2.imwrite(\"./output.jpg\",targetImage)"
   ]
  },
  {
   "cell_type": "code",
   "execution_count": null,
   "metadata": {},
   "outputs": [],
   "source": [
    "# crop = targetImage[224-sheight:224,394-swidth:394]\n",
    "\n",
    "\n",
    "# stemplate,contour,checker = find_dft(crop)\n",
    "# cv2.drawContours(crop, contours[0], -1, (0, 255, 0), 1) \n",
    "\n",
    "\n",
    "# size = min(50,len(stemplate))\n",
    "# stemplate = stemplate[:size]\n",
    "# miniTemplate = template[:size]\n",
    "# dist2 = np.mean(np.abs(np.absolute(miniTemplate) - np.absolute(stemplate)))\n",
    "# cv2.imshow('crop', crop) \n",
    "# cv2.waitKey(0) \n",
    "# cv2.destroyAllWindows() \n",
    "# print(len(stemplate))"
   ]
  },
  {
   "cell_type": "code",
   "execution_count": null,
   "metadata": {},
   "outputs": [],
   "source": [
    "# image = cv2.imread('./sample5.png') \n",
    "# gray = cv2.cvtColor(image, cv2.COLOR_BGR2GRAY) \n",
    "# # gray = cv2.threshold(gray, thresh, 255, cv2.THRESH_BINARY)[1]\n",
    "  \n",
    "# # Find Canny edges \n",
    "# edged = cv2.Canny(gray, 80, 200) \n",
    "# cv2.imshow('Canny Edges After Contouring', edged) \n",
    "# cv2.waitKey(0) \n",
    "# cv2.destroyAllWindows() \n",
    "\n",
    "\n"
   ]
  },
  {
   "cell_type": "code",
   "execution_count": null,
   "metadata": {},
   "outputs": [],
   "source": []
  },
  {
   "cell_type": "code",
   "execution_count": null,
   "metadata": {},
   "outputs": [],
   "source": []
  }
 ],
 "metadata": {
  "kernelspec": {
   "display_name": "Python 3",
   "language": "python",
   "name": "python3"
  },
  "language_info": {
   "codemirror_mode": {
    "name": "ipython",
    "version": 3
   },
   "file_extension": ".py",
   "mimetype": "text/x-python",
   "name": "python",
   "nbconvert_exporter": "python",
   "pygments_lexer": "ipython3",
   "version": "3.7.4"
  }
 },
 "nbformat": 4,
 "nbformat_minor": 2
}

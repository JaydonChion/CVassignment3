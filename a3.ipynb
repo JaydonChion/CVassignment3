{
 "cells": [
  {
   "cell_type": "code",
   "execution_count": null,
   "metadata": {},
   "outputs": [],
   "source": [
    "import sys\n",
    "# !{sys.executable} -m pip install opencv-python\n",
    "from IPython.core.debugger import set_trace\n",
    "import cv2 \n",
    "import numpy as np\n",
    "from scipy import signal\n",
    "from IPython.core.debugger import set_trace\n",
    "from sklearn.metrics import mean_squared_error\n",
    "from sklearn import preprocessing"
   ]
  },
  {
   "cell_type": "code",
   "execution_count": null,
   "metadata": {},
   "outputs": [],
   "source": [
    "def find_dft(img):\n",
    "    gray = cv2.cvtColor(img, cv2.COLOR_BGR2GRAY) \n",
    "    edged = cv2.Canny(gray, 30, 200) \n",
    "    contours, hierarchy = cv2.findContours(edged,  \n",
    "        cv2.RETR_EXTERNAL, cv2.CHAIN_APPROX_NONE) \n",
    "    if len(contours)!=1:\n",
    "        return [],[],False\n",
    "    contours1 = np.reshape(contours,[-1,2])\n",
    "    contours1 = np.divide(contours1,np.repeat(np.reshape(np.add(np.power(contours1[:,0],2),np.power(contours1[:,1],2)),[-1,1]),2,axis = 1))\n",
    "\n",
    "    u_hat = contours1[:,0]+1j*contours1[:,1]\n",
    "    u_hat[~np.isnan(u_hat).any(axis=0)]\n",
    "    template = np.fft.fft(u_hat)\n",
    "#     template_unit = template/np.absolute(template)\n",
    "\n",
    "    return template,contours,True\n",
    "\n",
    "image = cv2.imread('./sample.png') \n",
    "targetImage = cv2.imread('./a3.png') \n",
    "\n",
    "sheight,swidth = image.shape[0],image.shape[1]\n",
    "height,width = targetImage.shape[0],targetImage.shape[1]\n",
    "\n",
    "cv2.waitKey(0) \n",
    "  \n",
    "# Grayscale \n",
    "gray = cv2.cvtColor(image, cv2.COLOR_BGR2GRAY) \n",
    "  \n",
    "# Find Canny edges \n",
    "edged = cv2.Canny(gray, 30, 200) \n",
    "cv2.waitKey(0) \n",
    "  \n",
    "# Finding Contours \n",
    "# Use a copy of the image e.g. edged.copy() \n",
    "# since findContours alters the image \n",
    "contours, hierarchy = cv2.findContours(edged,  \n",
    "    cv2.RETR_EXTERNAL, cv2.CHAIN_APPROX_NONE) \n",
    "\n",
    "template,_,_ = find_dft(image)\n",
    "template = template[:50]\n",
    "# template_abs = np.absolute(template)\n",
    "# index = sorted(np.argsort(template_abs)[:50])\n",
    "# template  = template[index]\n",
    "\n",
    "# template_unit = np.divide(template,np.mean(np.absolute(template)))[:10]\n",
    "temp_length = len(template)\n",
    "# cv2.imshow('Canny Edges After Contouring', edged) \n",
    "# cv2.waitKey(0) \n",
    "\n",
    "print(\"Number of Contours found = \" + str(len(contours))) \n",
    "  \n",
    "# Draw all contours \n",
    "# -1 signifies drawing all contours \n",
    "cv2.drawContours(image, contours, -1, (0, 255, 0), 1) \n",
    "  \n",
    "# cv2.imshow('Contours', image) \n",
    "# cv2.waitKey(0) \n",
    "cv2.destroyAllWindows() \n",
    "\n"
   ]
  },
  {
   "cell_type": "code",
   "execution_count": null,
   "metadata": {
    "scrolled": true
   },
   "outputs": [],
   "source": [
    "# for h in range(sheight,height,5):\n",
    "#     for w in range(swidth,width,5):\n",
    "#         crop = targetImage[h-sheight:h,w-swidth:w]\n",
    "#         stemplate,contour,checker = find_dft(crop)\n",
    "# #         cv2.imshow('crops', crop) \n",
    "# #         cv2.waitKey(0) \n",
    "# #         cv2.destroyAllWindows() \n",
    "#         if checker and len(stemplate)>=temp_length and len(stemplate)>=80:\n",
    "#             stemplate_abs = np.absolute(stemplate)\n",
    "#             index1 = sorted(np.argsort(stemplate_abs)[:80])\n",
    "#             stemplate_unit = np.divide(stemplate,np.absolute(stemplate))\n",
    "#             stemplate_unit  = stemplate_unit[index1]\n",
    "# #             dist = np.mean(np.power(np.absolute(template_unit - stemplate_unit),2))\n",
    "#             dist = np.mean(np.power(np.imag(template_unit)-np.imag(stemplate_unit),2)+np.power(np.real(template_unit)-np.real(stemplate_unit),2))\n",
    "# #             set_trace()\n",
    "#             if dist:\n",
    "#                 cv2.drawContours(crop, contour, -1, (0, 255, 0), 1) \n",
    "#                 cv2.imshow('crops', crop) \n",
    "#                 cv2.waitKey(0) \n",
    "#                 cv2.destroyAllWindows() \n",
    "#                 print(dist)\n",
    "#         else:\n",
    "#             continue\n",
    "   "
   ]
  },
  {
   "cell_type": "code",
   "execution_count": null,
   "metadata": {},
   "outputs": [],
   "source": [
    "for h in range(sheight,height,5):\n",
    "    for w in range(swidth,width,5):\n",
    "        crop = targetImage[h-sheight:h,w-swidth:w]\n",
    "        stemplate,contour,checker = find_dft(crop)\n",
    "        \n",
    "#         if checker and len(stemplate)>=temp_length and len(stemplate)>=80:\n",
    "        if checker and len(stemplate)>=50:\n",
    "            stemplate = stemplate[:50]\n",
    "#             stemplate_unit = np.divide(stemplate,np.mean(np.absolute(stemplate)))[:10]\n",
    "#             dist = np.absolute(signal.correlate(template,stemplate, mode='same') )\n",
    "            dist = np.mean(np.power(np.imag(template)-np.imag(stemplate),2)+np.power(np.real(template)-np.real(stemplate),2))\n",
    "#             dist2 = np.mean(np.abs(np.absolute(template_unit) - np.absolute(stemplate_unit)))\n",
    "#             dist = dist1 + dist2\n",
    "#             cv2.drawContours(crop, contour[:40], -1, (0, 255, 0), 1) \n",
    "            dist = np.mean(dist)*100\n",
    "            if dist<1:\n",
    "                cv2.imshow('crops', crop) \n",
    "                cv2.waitKey(0) \n",
    "                cv2.destroyAllWindows() \n",
    "                print(dist)\n"
   ]
  },
  {
   "cell_type": "code",
   "execution_count": null,
   "metadata": {},
   "outputs": [],
   "source": []
  },
  {
   "cell_type": "code",
   "execution_count": null,
   "metadata": {},
   "outputs": [],
   "source": [
    "np.mean(a)"
   ]
  },
  {
   "cell_type": "code",
   "execution_count": null,
   "metadata": {},
   "outputs": [],
   "source": [
    "preprocessing.normalize([1,2,3], norm='l2',axis = 1)\n",
    "\n",
    "\n",
    "\n",
    "\n",
    "\n",
    "\n",
    "\n"
   ]
  },
  {
   "cell_type": "code",
   "execution_count": null,
   "metadata": {},
   "outputs": [],
   "source": []
  },
  {
   "cell_type": "code",
   "execution_count": null,
   "metadata": {},
   "outputs": [],
   "source": []
  }
 ],
 "metadata": {
  "kernelspec": {
   "display_name": "Python 3",
   "language": "python",
   "name": "python3"
  },
  "language_info": {
   "codemirror_mode": {
    "name": "ipython",
    "version": 3
   },
   "file_extension": ".py",
   "mimetype": "text/x-python",
   "name": "python",
   "nbconvert_exporter": "python",
   "pygments_lexer": "ipython3",
   "version": "3.7.4"
  }
 },
 "nbformat": 4,
 "nbformat_minor": 2
}

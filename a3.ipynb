{
 "cells": [
  {
   "cell_type": "code",
   "execution_count": 1,
   "metadata": {},
   "outputs": [],
   "source": [
    "import sys\n",
    "# !{sys.executable} -m pip install opencv-python\n",
    "from IPython.core.debugger import set_trace\n",
    "import cv2 \n",
    "import numpy as np\n",
    "from scipy import signal\n",
    "from IPython.core.debugger import set_trace\n",
    "from sklearn.metrics import mean_squared_error\n",
    "from sklearn import preprocessing"
   ]
  },
  {
   "cell_type": "code",
   "execution_count": 2,
   "metadata": {},
   "outputs": [
    {
     "name": "stdout",
     "output_type": "stream",
     "text": [
      "Number of Contours found = 1\n"
     ]
    }
   ],
   "source": [
    "def find_dft(img):\n",
    "    gray = cv2.cvtColor(img, cv2.COLOR_BGR2GRAY) \n",
    "    edged = cv2.Canny(gray, 30, 200) \n",
    "    contours, hierarchy = cv2.findContours(edged,  \n",
    "        cv2.RETR_EXTERNAL, cv2.CHAIN_APPROX_NONE) \n",
    "    if len(contours)!=1:\n",
    "        return [],[],False\n",
    "    contours1 = np.reshape(contours,[-1,2])\n",
    "    contours1 = np.divide(contours1,np.repeat(np.reshape(np.add(np.power(contours1[:,0],2),np.power(contours1[:,1],2)),[-1,1]),2,axis = 1))\n",
    "\n",
    "    u_hat = contours1[:,0]+1j*contours1[:,1]\n",
    "    u_hat[~np.isnan(u_hat).any(axis=0)]\n",
    "    template = np.fft.fft(u_hat)\n",
    "#     template_unit = template/np.absolute(template)\n",
    "\n",
    "    return template,contours,True\n",
    "\n",
    "image = cv2.imread('./sample.png') \n",
    "targetImage = cv2.imread('./a3.png') \n",
    "\n",
    "sheight,swidth = image.shape[0],image.shape[1]\n",
    "height,width = targetImage.shape[0],targetImage.shape[1]\n",
    "\n",
    "cv2.waitKey(0) \n",
    "  \n",
    "# Grayscale \n",
    "gray = cv2.cvtColor(image, cv2.COLOR_BGR2GRAY) \n",
    "  \n",
    "# Find Canny edges \n",
    "edged = cv2.Canny(gray, 30, 200) \n",
    "cv2.waitKey(0) \n",
    "  \n",
    "# Finding Contours \n",
    "# Use a copy of the image e.g. edged.copy() \n",
    "# since findContours alters the image \n",
    "contours, hierarchy = cv2.findContours(edged,  \n",
    "    cv2.RETR_EXTERNAL, cv2.CHAIN_APPROX_NONE) \n",
    "\n",
    "template,_,_ = find_dft(image)\n",
    "template = template[:50]\n",
    "# template_abs = np.absolute(template)\n",
    "# index = sorted(np.argsort(template_abs)[:50])\n",
    "# template  = template[index]\n",
    "\n",
    "# template_unit = np.divide(template,np.mean(np.absolute(template)))[:10]\n",
    "temp_length = len(template)\n",
    "# cv2.imshow('Canny Edges After Contouring', edged) \n",
    "# cv2.waitKey(0) \n",
    "\n",
    "print(\"Number of Contours found = \" + str(len(contours))) \n",
    "  \n",
    "# Draw all contours \n",
    "# -1 signifies drawing all contours \n",
    "cv2.drawContours(image, contours, -1, (0, 255, 0), 1) \n",
    "  \n",
    "# cv2.imshow('Contours', image) \n",
    "# cv2.waitKey(0) \n",
    "cv2.destroyAllWindows() \n",
    "\n"
   ]
  },
  {
   "cell_type": "code",
   "execution_count": 3,
   "metadata": {
    "scrolled": true
   },
   "outputs": [],
   "source": [
    "# for h in range(sheight,height,5):\n",
    "#     for w in range(swidth,width,5):\n",
    "#         crop = targetImage[h-sheight:h,w-swidth:w]\n",
    "#         stemplate,contour,checker = find_dft(crop)\n",
    "# #         cv2.imshow('crops', crop) \n",
    "# #         cv2.waitKey(0) \n",
    "# #         cv2.destroyAllWindows() \n",
    "#         if checker and len(stemplate)>=temp_length and len(stemplate)>=80:\n",
    "#             stemplate_abs = np.absolute(stemplate)\n",
    "#             index1 = sorted(np.argsort(stemplate_abs)[:80])\n",
    "#             stemplate_unit = np.divide(stemplate,np.absolute(stemplate))\n",
    "#             stemplate_unit  = stemplate_unit[index1]\n",
    "# #             dist = np.mean(np.power(np.absolute(template_unit - stemplate_unit),2))\n",
    "#             dist = np.mean(np.power(np.imag(template_unit)-np.imag(stemplate_unit),2)+np.power(np.real(template_unit)-np.real(stemplate_unit),2))\n",
    "# #             set_trace()\n",
    "#             if dist:\n",
    "#                 cv2.drawContours(crop, contour, -1, (0, 255, 0), 1) \n",
    "#                 cv2.imshow('crops', crop) \n",
    "#                 cv2.waitKey(0) \n",
    "#                 cv2.destroyAllWindows() \n",
    "#                 print(dist)\n",
    "#         else:\n",
    "#             continue\n",
    "   "
   ]
  },
  {
   "cell_type": "code",
   "execution_count": 4,
   "metadata": {
    "scrolled": true
   },
   "outputs": [
    {
     "name": "stdout",
     "output_type": "stream",
     "text": [
      "0.902140786434002\n",
      "0.529786938060527\n",
      "0.18049476732351805\n",
      "0.32555682916125966\n",
      "0.7824108072171189\n",
      "0.9741525327171177\n",
      "0.5906079997225689\n",
      "0.17971979953376296\n",
      "0.2644754453024969\n",
      "0.7349801894445751\n",
      "1.243418923499682\n",
      "1.0734492793649646\n",
      "0.6856264177200968\n",
      "0.26851005738086864\n",
      "0.18336818047745432\n",
      "0.6687794764270829\n",
      "1.191771247227041\n",
      "1.197740803897256\n",
      "0.809811999192394\n",
      "0.3940243902540272\n",
      "0.13501733652752712\n",
      "0.5606542704032229\n",
      "1.0957542724181826\n",
      "0.9585698635110665\n",
      "0.5462825562590072\n",
      "0.14338820799412544\n",
      "0.44236908927612506\n",
      "0.9518078070718295\n"
     ]
    },
    {
     "name": "stderr",
     "output_type": "stream",
     "text": [
      "/usr/local/lib/python3.7/site-packages/ipykernel_launcher.py:9: RuntimeWarning: invalid value encountered in true_divide\n",
      "  if __name__ == '__main__':\n"
     ]
    },
    {
     "name": "stdout",
     "output_type": "stream",
     "text": [
      "1.2236689616228942\n",
      "1.2012802788579002\n",
      "1.2038778653377518\n",
      "1.2362402979166267\n",
      "1.2326693349032731\n",
      "1.2183076142720646\n",
      "1.2001464679969607\n",
      "1.1807059326262177\n",
      "1.2074329258116907\n",
      "1.2440122959177973\n",
      "1.2382449283625476\n",
      "1.2194851816375192\n",
      "1.2404919110276498\n",
      "1.1957114382529392\n",
      "1.1349068020436528\n",
      "1.199196600774293\n",
      "1.0385596413701583\n",
      "1.0482310070984773\n",
      "1.006359523338425\n",
      "1.182837164405399\n",
      "1.1471447995450845\n",
      "1.0701010304236054\n",
      "1.1752229851997438\n",
      "1.1053104087718275\n",
      "1.0508408221049983\n",
      "1.0009058694930901\n",
      "1.1946293759168622\n",
      "1.1442808140215426\n",
      "1.0915695112369053\n",
      "1.0368860457736733\n",
      "1.0794271300970244\n",
      "1.2499837077255973\n",
      "1.2092202687754763\n",
      "1.1700675076235099\n",
      "1.2248303410024817\n",
      "1.2305318491120694\n",
      "1.246244516711566\n",
      "1.1631033579236494\n",
      "1.0739647592900148\n",
      "1.2227905069482967\n",
      "1.1745075508772203\n",
      "1.1301902643961326\n",
      "1.2038306917230268\n",
      "1.2266061650615847\n"
     ]
    },
    {
     "data": {
      "text/plain": [
       "True"
      ]
     },
     "execution_count": 4,
     "metadata": {},
     "output_type": "execute_result"
    }
   ],
   "source": [
    "x = []\n",
    "y = []\n",
    "\n",
    "for h in range(sheight,height,2):\n",
    "    for w in range(swidth,width,2):\n",
    "        crop = targetImage[h-sheight:h,w-swidth:w]\n",
    "        stemplate,contour,checker = find_dft(crop)\n",
    "        \n",
    "#         if checker and len(stemplate)>=temp_length and len(stemplate)>=80:\n",
    "        if checker and len(contour)>0 and len(stemplate)>=50:\n",
    "            stemplate = stemplate[:50]\n",
    "#             dist1 = np.mean(np.power(np.imag(template)-np.imag(stemplate),2)+np.power(np.real(template)-np.real(stemplate),2))\n",
    "            dist2 = np.mean(np.abs(np.absolute(template) - np.absolute(stemplate)))\n",
    "            dist = dist2*100\n",
    "            if dist<1.25 and not np.isnan(dist):\n",
    "#                 cv2.rectangle(targetImage, ( w-swidth,h-sheight), (w,h), (255,0,0), 2)\n",
    "#                 cv2.imshow('crop', crop) \n",
    "#                 cv2.waitKey(0) \n",
    "#                 cv2.destroyAllWindows() \n",
    "                x.append(h)\n",
    "                y.append(w)\n",
    "                print(dist)\n",
    "\n",
    "for i,j in zip(x,y):\n",
    "    cv2.rectangle(targetImage, ( j-swidth,i-sheight), (j,i), (255,0,0), 2)\n",
    "\n",
    "cv2.imwrite(\"./output.jpg\",targetImage)\n"
   ]
  },
  {
   "cell_type": "code",
   "execution_count": null,
   "metadata": {},
   "outputs": [],
   "source": []
  },
  {
   "cell_type": "code",
   "execution_count": 5,
   "metadata": {},
   "outputs": [
    {
     "ename": "NameError",
     "evalue": "name 'a' is not defined",
     "output_type": "error",
     "traceback": [
      "\u001b[0;31m---------------------------------------------------------------------------\u001b[0m",
      "\u001b[0;31mNameError\u001b[0m                                 Traceback (most recent call last)",
      "\u001b[0;32m<ipython-input-5-bb73b68b76e2>\u001b[0m in \u001b[0;36m<module>\u001b[0;34m\u001b[0m\n\u001b[0;32m----> 1\u001b[0;31m \u001b[0mnp\u001b[0m\u001b[0;34m.\u001b[0m\u001b[0mmean\u001b[0m\u001b[0;34m(\u001b[0m\u001b[0ma\u001b[0m\u001b[0;34m)\u001b[0m\u001b[0;34m\u001b[0m\u001b[0;34m\u001b[0m\u001b[0m\n\u001b[0m",
      "\u001b[0;31mNameError\u001b[0m: name 'a' is not defined"
     ]
    }
   ],
   "source": []
  },
  {
   "cell_type": "code",
   "execution_count": null,
   "metadata": {},
   "outputs": [],
   "source": [
    "\n",
    "\n",
    "\n",
    "\n",
    "\n",
    "\n",
    "\n"
   ]
  },
  {
   "cell_type": "code",
   "execution_count": null,
   "metadata": {},
   "outputs": [],
   "source": []
  },
  {
   "cell_type": "code",
   "execution_count": null,
   "metadata": {},
   "outputs": [],
   "source": []
  }
 ],
 "metadata": {
  "kernelspec": {
   "display_name": "Python 3",
   "language": "python",
   "name": "python3"
  },
  "language_info": {
   "codemirror_mode": {
    "name": "ipython",
    "version": 3
   },
   "file_extension": ".py",
   "mimetype": "text/x-python",
   "name": "python",
   "nbconvert_exporter": "python",
   "pygments_lexer": "ipython3",
   "version": "3.7.4"
  }
 },
 "nbformat": 4,
 "nbformat_minor": 2
}
